{
 "cells": [
  {
   "cell_type": "markdown",
   "metadata": {},
   "source": [
    "# EA Assignment 03 - Text Classification Model\n",
    "__Authored by: Álvaro Bartolomé del Canto (alvarobartt @ GitHub)__\n",
    "\n",
    "---"
   ]
  },
  {
   "cell_type": "markdown",
   "metadata": {},
   "source": [
    "<img src=\"https://media-exp1.licdn.com/dms/image/C561BAQFjp6F5hjzDhg/company-background_10000/0?e=2159024400&v=beta&t=OfpXJFCHCqdhcTu7Ud-lediwihm0cANad1Kc_8JcMpA\">"
   ]
  },
  {
   "cell_type": "markdown",
   "metadata": {},
   "source": [
    "We will start this Jupyter Notebook with a little recap from the previous one named `02 - Data Preprocessing.ipynb` where we defined the NLP Preprocessing pipeline we want to apply in order to prepare the input raw text into valuable text, at the end of that Jupyter Notebook we dumped the generated `pandas.DataFrame` into a JSON-Lines file so as to avoid preprocessing the data on each Notebook. So on, this Jupyter Notebook starts with the preprocessed data loading, which means that if you want to have more details/insights on how the data is being preprocessed just refer to the previous notebook."
   ]
  },
  {
   "cell_type": "markdown",
   "metadata": {},
   "source": [
    "## Loading PreProcessed Data"
   ]
  },
  {
   "cell_type": "markdown",
   "metadata": {},
   "source": [
    "__Reproducibility Warning__: you will not find the `PreProcessedDocuments.jsonl` file when cloning the repository from GitHub, since it has been included in the .gitignore file due to the GitHub quotas when uploading big files. So on, if you want to reproduce this Jupyter Notebook, please refer to `02 - Data Preprocessing.ipynb` where the NLP preprocessing pipeline is explained and this file is generated."
   ]
  },
  {
   "cell_type": "code",
   "execution_count": 1,
   "metadata": {},
   "outputs": [],
   "source": [
    "import json\n",
    "\n",
    "data = list()\n",
    "\n",
    "with open('PreProcessedDocuments.jsonl', 'r') as f:\n",
    "    for line in f.readlines():\n",
    "        data.append(json.loads(line))"
   ]
  },
  {
   "cell_type": "code",
   "execution_count": 2,
   "metadata": {},
   "outputs": [
    {
     "data": {
      "text/html": [
       "<div>\n",
       "<style scoped>\n",
       "    .dataframe tbody tr th:only-of-type {\n",
       "        vertical-align: middle;\n",
       "    }\n",
       "\n",
       "    .dataframe tbody tr th {\n",
       "        vertical-align: top;\n",
       "    }\n",
       "\n",
       "    .dataframe thead th {\n",
       "        text-align: right;\n",
       "    }\n",
       "</style>\n",
       "<table border=\"1\" class=\"dataframe\">\n",
       "  <thead>\n",
       "    <tr style=\"text-align: right;\">\n",
       "      <th></th>\n",
       "      <th>lang</th>\n",
       "      <th>context</th>\n",
       "      <th>preprocessed_text</th>\n",
       "    </tr>\n",
       "  </thead>\n",
       "  <tbody>\n",
       "    <tr>\n",
       "      <th>0</th>\n",
       "      <td>en</td>\n",
       "      <td>wikipedia</td>\n",
       "      <td>watchmen twelve issue comic book limited serie...</td>\n",
       "    </tr>\n",
       "    <tr>\n",
       "      <th>1</th>\n",
       "      <td>en</td>\n",
       "      <td>wikipedia</td>\n",
       "      <td>citigroup center formerly citicorp center one ...</td>\n",
       "    </tr>\n",
       "    <tr>\n",
       "      <th>2</th>\n",
       "      <td>en</td>\n",
       "      <td>wikipedia</td>\n",
       "      <td>birth_place death_date death_place party conse...</td>\n",
       "    </tr>\n",
       "    <tr>\n",
       "      <th>3</th>\n",
       "      <td>en</td>\n",
       "      <td>wikipedia</td>\n",
       "      <td>marbod maroboduus born bc died king marcomanni...</td>\n",
       "    </tr>\n",
       "    <tr>\n",
       "      <th>4</th>\n",
       "      <td>en</td>\n",
       "      <td>wikipedia</td>\n",
       "      <td>sylvester medal bronze medal awarded every thr...</td>\n",
       "    </tr>\n",
       "  </tbody>\n",
       "</table>\n",
       "</div>"
      ],
      "text/plain": [
       "  lang    context                                  preprocessed_text\n",
       "0   en  wikipedia  watchmen twelve issue comic book limited serie...\n",
       "1   en  wikipedia  citigroup center formerly citicorp center one ...\n",
       "2   en  wikipedia  birth_place death_date death_place party conse...\n",
       "3   en  wikipedia  marbod maroboduus born bc died king marcomanni...\n",
       "4   en  wikipedia  sylvester medal bronze medal awarded every thr..."
      ]
     },
     "execution_count": 2,
     "metadata": {},
     "output_type": "execute_result"
    }
   ],
   "source": [
    "import pandas as pd\n",
    "\n",
    "data = pd.DataFrame(data)\n",
    "data.head()"
   ]
  },
  {
   "cell_type": "markdown",
   "metadata": {},
   "source": [
    "---"
   ]
  },
  {
   "cell_type": "markdown",
   "metadata": {},
   "source": [
    "## Data Preparation"
   ]
  },
  {
   "cell_type": "markdown",
   "metadata": {},
   "source": [
    "Before proceeding with the text vectorization, etc. we first need to encode the target values, since the `context` column of the `pandas.DataFrame`, which contains the previosuly preprocessed data, is a categorical variable which means that some models may have problems while handling it, so we will just turn it into an integer value, since models use to perform better with numerical data rather than categorical.\n",
    "\n",
    "We will be using `sklearn.preprocessing.LabelEncoder`, which receives an array containing all the values and it just transforms every str occurrence into an int64 one."
   ]
  },
  {
   "cell_type": "code",
   "execution_count": 86,
   "metadata": {},
   "outputs": [],
   "source": [
    "from sklearn.preprocessing import LabelEncoder\n",
    "\n",
    "encoder = LabelEncoder()"
   ]
  },
  {
   "cell_type": "code",
   "execution_count": 87,
   "metadata": {},
   "outputs": [],
   "source": [
    "data['context_id'] = encoder.fit_transform(data['context'])"
   ]
  },
  {
   "cell_type": "markdown",
   "metadata": {},
   "source": [
    "__Note__: once we use the encoder to transform the `context` data, we need to store the relationship between the real context values and the numerical values assigned, so we will just dump a Python dictionary containing those relations, so as to later be able to tell that whenever the model is predicting 3, it is indeed predicting the Wikipedia's context."
   ]
  },
  {
   "cell_type": "code",
   "execution_count": 88,
   "metadata": {},
   "outputs": [
    {
     "data": {
      "text/plain": [
       "['wikipedia', 'conference_papers', 'apr', 'pan11']"
      ]
     },
     "execution_count": 88,
     "metadata": {},
     "output_type": "execute_result"
    }
   ],
   "source": [
    "contexts = data['context'].unique().tolist()\n",
    "contexts"
   ]
  },
  {
   "cell_type": "code",
   "execution_count": 89,
   "metadata": {},
   "outputs": [
    {
     "data": {
      "text/plain": [
       "{3: 'wikipedia', 1: 'conference_papers', 0: 'apr', 2: 'pan11'}"
      ]
     },
     "execution_count": 89,
     "metadata": {},
     "output_type": "execute_result"
    }
   ],
   "source": [
    "ID2CONTEXT = {}\n",
    "\n",
    "for context in contexts:\n",
    "    ID2CONTEXT[int(encoder.transform([context])[0])] = context\n",
    "    \n",
    "ID2CONTEXT"
   ]
  },
  {
   "cell_type": "code",
   "execution_count": 90,
   "metadata": {},
   "outputs": [],
   "source": [
    "with open('id2context.json', 'w') as f:\n",
    "    json.dump(ID2CONTEXT, f)"
   ]
  },
  {
   "cell_type": "markdown",
   "metadata": {},
   "source": [
    "Additionally, we will also need to turn the data from the `pandas.DataFrame` into `numpy.ndarray` objects, since sklearn models perform better with numpy data since it is standarized.\n",
    "\n",
    "So on, we will just create the X variable which contains the preprocessed text dividing the words with spaces, and the y variable which is indeed the target variable plus the language.\n",
    "\n",
    "The transformation of the y variable may seem confusing since we are including the language, but we are just doing it like that so as to split the data in a balanced way so that we ensure that the model receives not just data from each context, but data from each language, even though as already said and specified in the project's requirements, the text classification will be done regardless the language."
   ]
  },
  {
   "cell_type": "code",
   "execution_count": 91,
   "metadata": {},
   "outputs": [],
   "source": [
    "import numpy as np\n",
    "\n",
    "X = np.asarray(data['preprocessed_text'])\n",
    "y = np.asarray(data[['context_id', 'lang']])"
   ]
  },
  {
   "cell_type": "markdown",
   "metadata": {},
   "source": [
    "---"
   ]
  },
  {
   "cell_type": "markdown",
   "metadata": {},
   "source": [
    "## Pipeline Definition (Vectorizer & Classification Model)"
   ]
  },
  {
   "cell_type": "markdown",
   "metadata": {},
   "source": [
    "One of the main features of sklearn are the Pipelines (`sklearn.pipeline.Pipeline`) which let you specify the setps from the data preprocessing to the model training and then easily import is as a Pipeline so as not to keep the trace of all the intermediate steps performed.\n",
    "\n",
    "In this concrete case, since we are facing a NLP Text Classification problem, we need to define a vectorizer so as to transform the input text (already preprocessed) into a vector and then train a model which is being feed with those vectors."
   ]
  },
  {
   "cell_type": "markdown",
   "metadata": {},
   "source": [
    "### TF-IDF Vectorizer"
   ]
  },
  {
   "cell_type": "markdown",
   "metadata": {},
   "source": [
    "There are multiple options when it comes to text vectorization such as `sklearn.feature_extraction.text.TfidfVectorizer`, `sklearn.feature_extraction.text.CountVectorizer` or `sklearn.feature_extraction.text.HashingVectorizer`, but in this case we will just be using the TF-IDF Vectorizer since it is the most suitable towards tackling this problem, since it ponderates the number of occurrences of each word inside a document with the number of occurrences of that word among all the other documents, so as to identify the relevance of a word appearing in a document towards later predict the context in which that concrete piece of text should be classified. "
   ]
  },
  {
   "cell_type": "markdown",
   "metadata": {},
   "source": [
    "`sklearn.feature_extraction.text.TfidfVectorizer` converts a collection of raw documents to a matrix of TF-IDF features, as stated in the scikit-learn docs.\n",
    "\n",
    "So on, each row in the matrix corresponds to a single document and the indices of each row correspond to all of the unique words found accross all the documents, so on, if we have 10 documents and 100 unique words accross all those documents, we will have a TF-IDF matrix with shape (10, 100). Also, note that the value that is contained in each position of the row is 0 if that word does not appear in that document, and if it does it is the result of calculating the TF-IDF value."
   ]
  },
  {
   "cell_type": "code",
   "execution_count": 36,
   "metadata": {},
   "outputs": [],
   "source": [
    "from sklearn.feature_extraction.text import TfidfVectorizer\n",
    "\n",
    "vectorizer = TfidfVectorizer()"
   ]
  },
  {
   "cell_type": "code",
   "execution_count": 42,
   "metadata": {},
   "outputs": [
    {
     "data": {
      "text/html": [
       "<div>\n",
       "<style scoped>\n",
       "    .dataframe tbody tr th:only-of-type {\n",
       "        vertical-align: middle;\n",
       "    }\n",
       "\n",
       "    .dataframe tbody tr th {\n",
       "        vertical-align: top;\n",
       "    }\n",
       "\n",
       "    .dataframe thead th {\n",
       "        text-align: right;\n",
       "    }\n",
       "</style>\n",
       "<table border=\"1\" class=\"dataframe\">\n",
       "  <thead>\n",
       "    <tr style=\"text-align: right;\">\n",
       "      <th></th>\n",
       "      <th>adorerais</th>\n",
       "      <th>at</th>\n",
       "      <th>chez</th>\n",
       "      <th>ea</th>\n",
       "      <th>en</th>\n",
       "      <th>encantaria</th>\n",
       "      <th>je</th>\n",
       "      <th>love</th>\n",
       "      <th>me</th>\n",
       "      <th>to</th>\n",
       "      <th>trabajar</th>\n",
       "      <th>travailler</th>\n",
       "      <th>work</th>\n",
       "      <th>would</th>\n",
       "    </tr>\n",
       "  </thead>\n",
       "  <tbody>\n",
       "    <tr>\n",
       "      <th>i would love to work at ea</th>\n",
       "      <td>0.000000</td>\n",
       "      <td>0.432385</td>\n",
       "      <td>0.000000</td>\n",
       "      <td>0.255374</td>\n",
       "      <td>0.000000</td>\n",
       "      <td>0.000000</td>\n",
       "      <td>0.000000</td>\n",
       "      <td>0.432385</td>\n",
       "      <td>0.000000</td>\n",
       "      <td>0.432385</td>\n",
       "      <td>0.000000</td>\n",
       "      <td>0.000000</td>\n",
       "      <td>0.432385</td>\n",
       "      <td>0.432385</td>\n",
       "    </tr>\n",
       "    <tr>\n",
       "      <th>me encantaria trabajar en ea</th>\n",
       "      <td>0.000000</td>\n",
       "      <td>0.000000</td>\n",
       "      <td>0.000000</td>\n",
       "      <td>0.283217</td>\n",
       "      <td>0.479528</td>\n",
       "      <td>0.479528</td>\n",
       "      <td>0.000000</td>\n",
       "      <td>0.000000</td>\n",
       "      <td>0.479528</td>\n",
       "      <td>0.000000</td>\n",
       "      <td>0.479528</td>\n",
       "      <td>0.000000</td>\n",
       "      <td>0.000000</td>\n",
       "      <td>0.000000</td>\n",
       "    </tr>\n",
       "    <tr>\n",
       "      <th>je adorerais travailler chez ea</th>\n",
       "      <td>0.479528</td>\n",
       "      <td>0.000000</td>\n",
       "      <td>0.479528</td>\n",
       "      <td>0.283217</td>\n",
       "      <td>0.000000</td>\n",
       "      <td>0.000000</td>\n",
       "      <td>0.479528</td>\n",
       "      <td>0.000000</td>\n",
       "      <td>0.000000</td>\n",
       "      <td>0.000000</td>\n",
       "      <td>0.000000</td>\n",
       "      <td>0.479528</td>\n",
       "      <td>0.000000</td>\n",
       "      <td>0.000000</td>\n",
       "    </tr>\n",
       "  </tbody>\n",
       "</table>\n",
       "</div>"
      ],
      "text/plain": [
       "                                 adorerais        at      chez        ea  \\\n",
       "i would love to work at ea        0.000000  0.432385  0.000000  0.255374   \n",
       "me encantaria trabajar en ea      0.000000  0.000000  0.000000  0.283217   \n",
       "je adorerais travailler chez ea   0.479528  0.000000  0.479528  0.283217   \n",
       "\n",
       "                                       en  encantaria        je      love  \\\n",
       "i would love to work at ea       0.000000    0.000000  0.000000  0.432385   \n",
       "me encantaria trabajar en ea     0.479528    0.479528  0.000000  0.000000   \n",
       "je adorerais travailler chez ea  0.000000    0.000000  0.479528  0.000000   \n",
       "\n",
       "                                       me        to  trabajar  travailler  \\\n",
       "i would love to work at ea       0.000000  0.432385  0.000000    0.000000   \n",
       "me encantaria trabajar en ea     0.479528  0.000000  0.479528    0.000000   \n",
       "je adorerais travailler chez ea  0.000000  0.000000  0.000000    0.479528   \n",
       "\n",
       "                                     work     would  \n",
       "i would love to work at ea       0.432385  0.432385  \n",
       "me encantaria trabajar en ea     0.000000  0.000000  \n",
       "je adorerais travailler chez ea  0.000000  0.000000  "
      ]
     },
     "execution_count": 42,
     "metadata": {},
     "output_type": "execute_result"
    }
   ],
   "source": [
    "texts = [\n",
    "    'i would love to work at ea',\n",
    "    'me encantaria trabajar en ea',\n",
    "    'je adorerais travailler chez ea'\n",
    "]\n",
    "\n",
    "matrix = vectorizer.fit_transform(texts)\n",
    "\n",
    "pd.DataFrame(matrix.todense(), index=texts, columns=vectorizer.get_feature_names())"
   ]
  },
  {
   "cell_type": "markdown",
   "metadata": {},
   "source": [
    "### Classification Models"
   ]
  },
  {
   "cell_type": "markdown",
   "metadata": {},
   "source": [
    "Since we are facing a Text Classification model, once the vectorization is completed we should just decide which classification model to use depending on both the scope and the model's requirements/limitations. When it comes to NLP text classification, the most common scikit-learn models are `sklearn.naive_bayes.MultinomialNB`, `sklearn.ensemble.RandomForestClassifier`, `sklearn.svm.LinearSVC` and `sklearn.linear_model.LogisticRegression`.\n",
    "\n",
    "Some considerations need to be made:\n",
    "\n",
    "* `MultinomialNB` is more suitable when we apply a count vectorization, since it tends to perform better when the input vectors contain the number of total ocurrences of each word in each the document.\n",
    "\n",
    "* The Random Forest models, in this case `RandomForestClassifier` are the most complex ones depending on the number of estimators (Decision Trees) used, and its result is the less consistent through the time, even though it is suppossed to be the most accurate one with good data since it combines the prediction of multiple models.\n",
    "\n",
    "* Linear models such as `LinearSVC` and `LogisticRegression` also perform well when it comes to text classification from a TF-IDF input matrix."
   ]
  },
  {
   "cell_type": "markdown",
   "metadata": {},
   "source": [
    "So on, we will be evaluating some models in order to see their performance over unseen data with the default parameters so as to decide which model are we keeping before we proceed with the pipeline creation and hyper-parameter tuning.\n",
    "\n",
    "__Note__: all this models will recieve the same input data which is indeed the transformed data using the `TfidfVectorizer` previously explained."
   ]
  },
  {
   "cell_type": "code",
   "execution_count": 72,
   "metadata": {},
   "outputs": [],
   "source": [
    "from sklearn.model_selection import StratifiedShuffleSplit\n",
    "\n",
    "from sklearn.naive_bayes import MultinomialNB\n",
    "from sklearn.linear_model import LogisticRegression\n",
    "from sklearn.ensemble import RandomForestClassifier\n",
    "from sklearn.svm import LinearSVC"
   ]
  },
  {
   "cell_type": "code",
   "execution_count": 73,
   "metadata": {},
   "outputs": [],
   "source": [
    "import warnings\n",
    "warnings.filterwarnings('ignore')\n",
    "\n",
    "from time import time"
   ]
  },
  {
   "cell_type": "markdown",
   "metadata": {},
   "source": [
    "__Reproducibility Warning__: the follwing Jupyter Notebook cell may take too long, since it trains multiple models multiple times in order to retrieve some evaluation metrics so as to decide which is the best model. So on, since this part has been just made with research purposes, you can jump straight forward to the next section which is _Pipeline_."
   ]
  },
  {
   "cell_type": "code",
   "execution_count": 74,
   "metadata": {},
   "outputs": [],
   "source": [
    "train_test = StratifiedShuffleSplit(n_splits=5, test_size=.2)\n",
    "\n",
    "results = list()\n",
    "\n",
    "for train_index, test_index in train_test.split(X, y):\n",
    "    X_train, X_test = X[train_index], X[test_index]\n",
    "    y_train, y_test = y[train_index][:,0], y[test_index][:,0]\n",
    "    \n",
    "    y_train = y_train.astype(int)\n",
    "    y_test = y_test.astype(int)\n",
    "\n",
    "    vect = TfidfVectorizer(min_df=5)\n",
    "    \n",
    "    X_train = vect.fit_transform(X_train)\n",
    "    X_test = vect.transform(X_test)\n",
    "    \n",
    "    for model in (MultinomialNB(), LogisticRegression(), RandomForestClassifier(), LinearSVC(),):\n",
    "        start = time()\n",
    "        model.fit(X_train, y_train)\n",
    "        stop = time()\n",
    "        \n",
    "        results.append({\n",
    "            'model': model.__class__.__name__,\n",
    "            'val_accuracy': model.score(X_test, y_test),\n",
    "            'training_time': stop - start\n",
    "        })\n",
    "        \n",
    "results = pd.DataFrame(results)"
   ]
  },
  {
   "cell_type": "markdown",
   "metadata": {},
   "source": [
    "Now we will just plot all the retrived results into a Box Plot using both `matplotlib` and `seaborn` in order to show the models performance in the 5 different stratified folds, which will not just reveal the most accurate one on the validation/test data but will also reveal which are the most consistent models no matter the fold."
   ]
  },
  {
   "cell_type": "code",
   "execution_count": 75,
   "metadata": {},
   "outputs": [],
   "source": [
    "import matplotlib.pyplot as plt\n",
    "%matplotlib inline\n",
    "\n",
    "import seaborn as sns\n",
    "sns.set(style='whitegrid')"
   ]
  },
  {
   "cell_type": "code",
   "execution_count": 109,
   "metadata": {},
   "outputs": [
    {
     "data": {
      "image/png": "[encoded data removed]",
      "text/plain": [
       "<Figure size 864x576 with 1 Axes>"
      ]
     },
     "metadata": {},
     "output_type": "display_data"
    }
   ],
   "source": [
    "plt.figure(figsize=(12,8));\n",
    "sns.boxplot(x='val_accuracy', y=\"model\", data=results);\n",
    "plt.title(\"5-Folds Text Classification Accuracy/Elapsed Time\");"
   ]
  },
  {
   "cell_type": "markdown",
   "metadata": {},
   "source": [
    "As we can see, the `LinearSVC` outperforms the other models even though all the models seem to have pretty accurate results as the minimum validation/test accuracy was achieved by the `MultinomialNB` with a value of ~94%. Anyway, the `LinearSVC` has obtained more than 98.5% on each validation/test fold, being the most consistent and accurate; while the other models are up to 1.5% behind on accuracy. Both `LogisticRegression` and `RandomForestClassifier` are pretty close on accuracy even though the last one is a little bit better."
   ]
  },
  {
   "cell_type": "code",
   "execution_count": 77,
   "metadata": {},
   "outputs": [
    {
     "data": {
      "image/png": "[encoded data removed]",
      "text/plain": [
       "<Figure size 864x576 with 1 Axes>"
      ]
     },
     "metadata": {},
     "output_type": "display_data"
    }
   ],
   "source": [
    "plt.figure(figsize=(12,8));\n",
    "sns.boxplot(x='training_time', y=\"model\", data=results);\n",
    "plt.title(\"5-Folds Text Classification Elapsed Training Time (in seconds)\");"
   ]
  },
  {
   "cell_type": "markdown",
   "metadata": {},
   "source": [
    "Another aspect to take into consideration is the training time, which in the case of the `RandomForestClassifier` is the highest one as we previously stated since it is the most complex one, while the best models when it comes to training time are: `MultinomialNB` and `LinearSVC`, where the last one takes a little bit more training time than the first one, but is still below 2 seconds which is pretty nice.\n",
    "\n",
    "All this features make the `LinearSVC` the best model towards this current problem, so we will proceed to the Pipeline definition using both the TD-IDF Vectorizer and the Linear Support Vector Classification Model, which is required their hyper parameters will be tuned in order to achieve a higher validation accuracy."
   ]
  },
  {
   "cell_type": "markdown",
   "metadata": {},
   "source": [
    "### Pipeline Implementation"
   ]
  },
  {
   "cell_type": "markdown",
   "metadata": {},
   "source": [
    "Finally, we will implement the sklearn Pipeline with the previous conclusions, which means that the pipeline should consist on a first layer/step in order to vectorize the input preprocessed text so as to transform it into a TF-IDF sparse matrix, which will later be used to train the Linear Support Vector Classification model.\n",
    "\n",
    "Also note that the data (X and y) should be split into training and validation/testing datasets, so as to have a collection of balanced (per context and language) preprocessed texts and their respective contexts, which are indeed, the categories that the model is intended to predict.__Note__: balancing the dataset by context and by language is strictly required, since a random split could not work as expected, this way we ensure that the model receives data from every possible context and language as input so as to prevent that validation/testing/unseen data is not represented."
   ]
  },
  {
   "cell_type": "markdown",
   "metadata": {},
   "source": [
    "__Note__: balancing the dataset by context and by language is strictly required, since a random split could not work as expected, this way we ensure that the model receives data from every possible context and language as input so as to prevent that validation/testing/unseen data is not represented."
   ]
  },
  {
   "cell_type": "code",
   "execution_count": 101,
   "metadata": {},
   "outputs": [],
   "source": [
    "train_test = StratifiedShuffleSplit(n_splits=5, test_size=.2, random_state=42)\n",
    "\n",
    "for train_index, test_index in train_test.split(X, y):\n",
    "    X_train, X_test = X[train_index], X[test_index]\n",
    "    y_train, y_test = y[train_index][:,0], y[test_index][:,0]\n",
    "\n",
    "y_train = y_train.astype(int)\n",
    "y_test = y_test.astype(int)"
   ]
  },
  {
   "cell_type": "code",
   "execution_count": 102,
   "metadata": {},
   "outputs": [
    {
     "data": {
      "text/plain": [
       "((18408,), (18408,))"
      ]
     },
     "execution_count": 102,
     "metadata": {},
     "output_type": "execute_result"
    }
   ],
   "source": [
    "X_train.shape, y_train.shape"
   ]
  },
  {
   "cell_type": "code",
   "execution_count": 103,
   "metadata": {},
   "outputs": [
    {
     "data": {
      "text/plain": [
       "((4603,), (4603,))"
      ]
     },
     "execution_count": 103,
     "metadata": {},
     "output_type": "execute_result"
    }
   ],
   "source": [
    "X_test.shape, y_test.shape"
   ]
  },
  {
   "cell_type": "markdown",
   "metadata": {},
   "source": [
    "Before proceeding with the hyper parameter tuning using `sklearn.model_selection.GridSearchCV` over the `sklearn.pipeline.Pipeline` we will evaluate the model first, since maybe the default model achieves a high accuracy as shown above and no hyper parameter tuning is required."
   ]
  },
  {
   "cell_type": "code",
   "execution_count": 104,
   "metadata": {},
   "outputs": [],
   "source": [
    "from sklearn.pipeline import Pipeline\n",
    "\n",
    "pipeline = Pipeline([\n",
    "    ('vect', TfidfVectorizer(min_df=5)),\n",
    "    ('clf', LinearSVC())\n",
    "])"
   ]
  },
  {
   "cell_type": "code",
   "execution_count": 106,
   "metadata": {},
   "outputs": [
    {
     "name": "stdout",
     "output_type": "stream",
     "text": [
      "CPU times: user 7.44 s, sys: 55.2 ms, total: 7.49 s\n",
      "Wall time: 7.49 s\n"
     ]
    },
    {
     "data": {
      "text/plain": [
       "Pipeline(steps=[('vect', TfidfVectorizer(min_df=5)), ('clf', LinearSVC())])"
      ]
     },
     "execution_count": 106,
     "metadata": {},
     "output_type": "execute_result"
    }
   ],
   "source": [
    "%time pipeline.fit(X_train, y_train);"
   ]
  },
  {
   "cell_type": "markdown",
   "metadata": {},
   "source": [
    "### Pipeline Dump"
   ]
  },
  {
   "cell_type": "markdown",
   "metadata": {},
   "source": [
    "Once is fitted, we will just dump it into a .joblib file so as to use it in the upcoming Jupyter Notebook where we will be testing the model over some data we retrieve from the Internet so as to check that the validation accuracy matches the reality, as it is useless to achieve a high validation accuracy if then the model over unseen real data performs worst.\n",
    "\n",
    "__Reproducibility Warning__: For dumping the model we will use `joblib` as already specified, but in order to reproduce it (both pipeline dump and load) make sure that you have the following Python libraries installed in the specified version: `scikit-learn==0.23.1 joblib==0.16.0`, otherwise we can not ensure that the dumped model works for you."
   ]
  },
  {
   "cell_type": "code",
   "execution_count": 110,
   "metadata": {},
   "outputs": [
    {
     "data": {
      "text/plain": [
       "['text-classification-pipeline.joblib']"
      ]
     },
     "execution_count": 110,
     "metadata": {},
     "output_type": "execute_result"
    }
   ],
   "source": [
    "from joblib import dump\n",
    "\n",
    "dump(pipeline, 'text-classification-pipeline.joblib')"
   ]
  },
  {
   "cell_type": "markdown",
   "metadata": {},
   "source": [
    "---"
   ]
  },
  {
   "cell_type": "markdown",
   "metadata": {},
   "source": [
    "## Pipeline Evaluation"
   ]
  },
  {
   "cell_type": "markdown",
   "metadata": {},
   "source": [
    "So as to complete the Text Classification Model research, we will evaluate the previously trained Pipeline, so as to get more insights on its performance rather than the accuracy/score or the time elapsed, even though we will just start by printing the Pipeline's accuracy over the training and the validation data so as to see its performance mainly over unseen data (validation/testing data)."
   ]
  },
  {
   "cell_type": "code",
   "execution_count": 108,
   "metadata": {},
   "outputs": [
    {
     "name": "stdout",
     "output_type": "stream",
     "text": [
      "Training Accuracy: 0.9998913515862669\n",
      "Validation Accuracy: 0.9910927655876602\n"
     ]
    }
   ],
   "source": [
    "print(f\"Training Accuracy: {pipeline.score(X_train, y_train)}\")\n",
    "print(f\"Validation Accuracy: {pipeline.score(X_test, y_test)}\")"
   ]
  },
  {
   "cell_type": "markdown",
   "metadata": {},
   "source": [
    "As we can see, the results are pretty good, since we obtained a Pipeline for Multi-Lingual Multi-Context Text Classification with over 99% accuracy on both training and validation data, so the trained Pipeline seems to be pretty consistent according to the accuracy evaluation metric.\n",
    "\n",
    "Anyway, in order to ensure that the Pipeline's performance is as good as it seems we will print the sklearn classification report, which will present some of the main metrics to take into consideration of classification problems."
   ]
  },
  {
   "cell_type": "code",
   "execution_count": 111,
   "metadata": {},
   "outputs": [],
   "source": [
    "prediction = pipeline.predict(X_test)"
   ]
  },
  {
   "cell_type": "code",
   "execution_count": 113,
   "metadata": {},
   "outputs": [
    {
     "name": "stdout",
     "output_type": "stream",
     "text": [
      "              precision    recall  f1-score   support\n",
      "\n",
      "           0       0.99      0.99      0.99      1182\n",
      "           1       0.98      0.93      0.95       121\n",
      "           2       0.99      0.98      0.98       582\n",
      "           3       0.99      1.00      0.99      2718\n",
      "\n",
      "    accuracy                           0.99      4603\n",
      "   macro avg       0.99      0.97      0.98      4603\n",
      "weighted avg       0.99      0.99      0.99      4603\n",
      "\n"
     ]
    }
   ],
   "source": [
    "from sklearn.metrics import classification_report\n",
    "\n",
    "print(classification_report(y_test, prediction))"
   ]
  },
  {
   "cell_type": "markdown",
   "metadata": {},
   "source": [
    "And, as expected, both the precision/accuracy and the recall are pretty high which favours the F1 scores of the model so that it is pretty close to them both so we can just take the F1 Score into consideration after evaluating that both precision and recall are high, since it is usual that just one of them is high while the other is a little bit worse."
   ]
  },
  {
   "cell_type": "markdown",
   "metadata": {},
   "source": [
    "Additionally, in order to complement the classification report, we will be plotting the confusion matrix which will ease the detection of the True Positives rate, which are the correctly classified samples. Anyway, we are expecting this values to be high as we already saw their scores, but now we do not want to see \"how good it is\" since we are done with it. What we really want to see with the confusion matrix visualization is which concrete samples are missclassified and which are contexts that usually get missclassified so as to extract some useful conclusions."
   ]
  },
  {
   "cell_type": "code",
   "execution_count": 136,
   "metadata": {},
   "outputs": [
    {
     "data": {
      "image/png": "[encoded data removed]",
      "text/plain": [
       "<Figure size 864x576 with 2 Axes>"
      ]
     },
     "metadata": {},
     "output_type": "display_data"
    }
   ],
   "source": [
    "from sklearn.metrics import confusion_matrix\n",
    "\n",
    "fig, ax = plt.subplots(figsize=(12,8))\n",
    "sns.heatmap(confusion_matrix(y_test, prediction), annot=True, fmt=\"d\", ax=ax, cmap='Blues');\n",
    "ax.set_xlabel('Predicted labels');\n",
    "ax.set_ylabel('True labels'); \n",
    "ax.set_title('Confusion Matrix'); \n",
    "ax.xaxis.set_ticklabels([ID2CONTEXT[i] for i in range(len(contexts))]);\n",
    "ax.yaxis.set_ticklabels([ID2CONTEXT[i] for i in range(len(contexts))]);"
   ]
  },
  {
   "cell_type": "markdown",
   "metadata": {},
   "source": [
    "So on, as the confusion matrix reveals, the main false positives and false negatives are almost always releated to the Wikipedia context, since it is the most populated context, and the trend is to predict Wikipedia when it is not Wikipedia. Also, it can be seen that the Conference Papers and the APR texts are never missclassified each other.\n",
    "\n",
    "Anyway, it can also be seen that just a few samples are missclassified which as opposed to the correctly classified samples does not need to be taken into consideration."
   ]
  }
 ],
 "metadata": {
  "kernelspec": {
   "display_name": "Python 3",
   "language": "python",
   "name": "python3"
  },
  "language_info": {
   "codemirror_mode": {
    "name": "ipython",
    "version": 3
   },
   "file_extension": ".py",
   "mimetype": "text/x-python",
   "name": "python",
   "nbconvert_exporter": "python",
   "pygments_lexer": "ipython3",
   "version": "3.7.7"
  }
 },
 "nbformat": 4,
 "nbformat_minor": 4
}
